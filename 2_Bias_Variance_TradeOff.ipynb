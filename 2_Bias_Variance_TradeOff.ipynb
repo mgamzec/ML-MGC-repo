{
 "cells": [
  {
   "cell_type": "markdown",
   "metadata": {},
   "source": [
    "## Bias-Variance Trade-Off"
   ]
  },
  {
   "cell_type": "markdown",
   "metadata": {},
   "source": [
    "**Bias:** Ön Kabul, Ön Yargı, Geçmiş Deneyimlerden edindiğimiz çıkarımlar\n",
    "\n",
    "**Variance:** Değişkenlik, varyans"
   ]
  },
  {
   "cell_type": "markdown",
   "metadata": {},
   "source": [
    "Minimum etmeye çalıştığımız kriter;\n",
    "\n",
    "Test Data'nın MSE değeri idi: $MSE_{Te}$"
   ]
  },
  {
   "cell_type": "markdown",
   "metadata": {},
   "source": [
    "Daha önce şunu görmüştük:\n",
    "\n",
    "$$ToplamHata = KaçınılabilirHata + Kaçınılmaz Hata$$"
   ]
  },
  {
   "cell_type": "markdown",
   "metadata": {},
   "source": [
    "Her hangi bir $x_0$ veri noktasında toplam hata (değişkenlik, varyans):\n",
    "\n"
   ]
  },
  {
   "cell_type": "markdown",
   "metadata": {},
   "source": [
    "$$E(y_0 - \\hat{f}(x_0))^2 = Var(\\hat{f}(x_0)) + [Bias(\\hat{f}(x_0))]^2 + Var(\\epsilon)$$"
   ]
  },
  {
   "cell_type": "markdown",
   "metadata": {},
   "source": [
    "Bu formülde:\n",
    "\n",
    "*     $E(y_0 - \\hat{f}(x_0))^2$  :  beklenen $MSE_{Te}$\n",
    "*     $Var(\\hat{f}(x_0)) + [Bias(\\hat{f}(x_0))]^2$  :  Kaçınılabilir Hata"
   ]
  },
  {
   "cell_type": "markdown",
   "metadata": {},
   "source": [
    "İşte Test MSE'yi minimize etmek için Kaçınılabilir Hatayı minimize etmemiz lazım."
   ]
  },
  {
   "cell_type": "markdown",
   "metadata": {},
   "source": [
    "$$E(MSE_{Te}) = Var + Bias^2 + Var(\\epsilon)$$"
   ]
  },
  {
   "cell_type": "markdown",
   "metadata": {},
   "source": [
    "Yani $Var + Bias^2$ yi minimize etmemiz lazım."
   ]
  },
  {
   "cell_type": "markdown",
   "metadata": {},
   "source": [
    "---"
   ]
  },
  {
   "cell_type": "markdown",
   "metadata": {
    "tags": []
   },
   "source": [
    "Bunun için model esnekliğini yani flexibility'yi değiştirerek deneriz:\n",
    "\n",
    "* Esneklik arttıkça Bias azalır (daha az ön kabul yapmış oluruz yani)\n",
    "* Esneklik arrtıkça Variance (değişkenlik) artar."
   ]
  },
  {
   "cell_type": "markdown",
   "metadata": {
    "tags": []
   },
   "source": [
    "En uygun nokta $Var + Bias^2$ toplamının en az olduğu noktadır. Bu değeri minimize etmemiz gerekiyor."
   ]
  },
  {
   "cell_type": "markdown",
   "metadata": {},
   "source": [
    "Modelin kendisi de iyiyse bias iyi bir şeydir aslında. Çünkü modelin kendisine yakınsar."
   ]
  },
  {
   "cell_type": "markdown",
   "metadata": {},
   "source": [
    "Lineer modelde varyans önce düsüktür. Ama esneklik arttıkca artmaya baslar ve bir noktadan sonra daha da hızlı artar."
   ]
  },
  {
   "cell_type": "markdown",
   "metadata": {},
   "source": [
    "Bias ile varyansın karelerinin toplamının olduğu yer de modelimizin en uygun noktası olur."
   ]
  },
  {
   "cell_type": "markdown",
   "metadata": {},
   "source": [
    "Varyansı cok sisirmeden bias ı da olabildigince düsük tutmaya calısırız."
   ]
  },
  {
   "cell_type": "code",
   "execution_count": null,
   "metadata": {},
   "outputs": [],
   "source": []
  }
 ],
 "metadata": {
  "kernelspec": {
   "display_name": "Python 3 (ipykernel)",
   "language": "python",
   "name": "python3"
  },
  "language_info": {
   "codemirror_mode": {
    "name": "ipython",
    "version": 3
   },
   "file_extension": ".py",
   "mimetype": "text/x-python",
   "name": "python",
   "nbconvert_exporter": "python",
   "pygments_lexer": "ipython3",
   "version": "3.10.9"
  }
 },
 "nbformat": 4,
 "nbformat_minor": 4
}
